{
 "cells": [
  {
   "cell_type": "code",
   "execution_count": 1,
   "id": "682c07ce",
   "metadata": {},
   "outputs": [
    {
     "name": "stdout",
     "output_type": "stream",
     "text": [
      "C:\\Users\\02dba\\Documents\\GitHub\\Diatomic-Molecule-Dissociation-by-Gravitational-Gradient\\contents\n"
     ]
    }
   ],
   "source": [
    "import numpy as np\n",
    "\n",
    "from pathlib import Path\n",
    "pathtohere = Path.cwd()\n",
    "print(pathtohere)"
   ]
  },
  {
   "cell_type": "code",
   "execution_count": 2,
   "id": "d4946c14",
   "metadata": {},
   "outputs": [],
   "source": [
    "import pyDataAnalysis.compression as compression\n",
    "import pyDataAnalysis.writeHeader as writeHeader\n",
    "import pyDataAnalysis.writecppCodeFile as writecppCodeFile"
   ]
  },
  {
   "cell_type": "code",
   "execution_count": 3,
   "id": "377ecb4c",
   "metadata": {},
   "outputs": [],
   "source": [
    "def readFile_EL(filePath, configureIdentifier:str):\n",
    "    \"\"\"\n",
    "    Read-in contents of eulerLagrange.cpp.\n",
    "    \n",
    "    Inputs:\n",
    "        - filePath: Path of the .cpp file.\n",
    "        - configureIdentifier:str: Identifier of if the file has already been configured.\n",
    "        \n",
    "    Outputs:\n",
    "        - motionEquations:list: Motion equations for each dof.\n",
    "        - isConfigured:bool: Whether the file is already configured.\n",
    "    \"\"\"\n",
    "    \n",
    "    \n",
    "    motionEquations = []\n",
    "    \n",
    "    line = True\n",
    "    i = 0\n",
    "\n",
    "    # Read in the expressions.\n",
    "    # https://stackoverflow.com/questions/3277503/how-to-read-a-file-line-by-line-into-a-list\n",
    "    with open(filePath, 'r', encoding='UTF-8') as f:\n",
    "        while line and i < 4:\n",
    "            line = f.readline()\n",
    "            \n",
    "            if line == configureIdentifier:\n",
    "                print(f'File already configured.')\n",
    "                return motionEquations, True\n",
    "            if i==0:\n",
    "                print(f'File not configured: {configureIdentifier[:-1]} not found.')\n",
    "            \n",
    "            \n",
    "            cut = slice(0,-1) if i<3 else slice(0,None)\n",
    "            motionEquations.append(line[cut])\n",
    "            \n",
    "            i+=1\n",
    "            \n",
    "    return motionEquations, False\n",
    "\n",
    "\n",
    "\n",
    "def configureFile():\n",
    "    \"\"\"\n",
    "    Configure the cpp file to find the new coordinates from the Euler-Lagrange equations.\n",
    "    \"\"\"\n",
    "    \n",
    "    configureIdentifier = '// Configured==true\\n'\n",
    "    filePath = pathtohere / 'src/eulerLagrange.cpp'\n",
    "    \n",
    "    motionEquations, isConfigured = readFile_EL(filePath, configureIdentifier)\n",
    "    if isConfigured:\n",
    "        return\n",
    "    \n",
    "    # Manipulate expressions.\n",
    "    motionEquations = compression.formatExpressions(motionEquations)\n",
    "    \n",
    "    variables, enclosers, motionEquations = compression.simplifyExpressions(motionEquations)\n",
    "    \n",
    "    \n",
    "    variableLengths = list(map(len, variables))\n",
    "    dofs = ('t','r','phi','theta')\n",
    "    \n",
    "    writecppCodeFile.writePrimary_cpp(filePath, configureIdentifier, motionEquations, dofs,\n",
    "                    variables, enclosers, variableLengths)\n",
    "        \n",
    "        \n",
    "    # Write to .h file.\n",
    "    filePath = pathtohere / 'include/eulerLagrange.h'\n",
    "    writeHeader.writePrimary_h(filePath, motionEquations, dofs,\n",
    "                    variables, variableLengths)\n",
    "        \n",
    "    print('Configuration complete.')\n",
    "            \n",
    "                        \n",
    "            "
   ]
  },
  {
   "cell_type": "code",
   "execution_count": 4,
   "id": "a32858d2",
   "metadata": {},
   "outputs": [],
   "source": [
    "def main():\n",
    "    configureFile()"
   ]
  },
  {
   "cell_type": "code",
   "execution_count": 5,
   "id": "ab43eb34",
   "metadata": {
    "scrolled": false
   },
   "outputs": [
    {
     "name": "stdout",
     "output_type": "stream",
     "text": [
      "File not configured: // Configured==true not found.\n",
      "1/4\n",
      "\t1/30\n",
      "\t2/30\n",
      "\t3/30\n",
      "\t4/30\n",
      "\t5/30\n",
      "\t6/30\n",
      "\t7/30\n",
      "\t8/30\n",
      "\t9/30\n",
      "\t10/30\n",
      "\t11/30\n",
      "No new variables added at run 11\n",
      "2/4\n",
      "\t1/30\n",
      "\t2/30\n",
      "\t3/30\n",
      "\t4/30\n",
      "\t5/30\n",
      "\t6/30\n",
      "\t7/30\n",
      "\t8/30\n",
      "\t9/30\n",
      "\t10/30\n",
      "No new variables added at run 10\n",
      "3/4\n",
      "\t1/30\n",
      "\t2/30\n",
      "\t3/30\n",
      "\t4/30\n",
      "\t5/30\n",
      "\t6/30\n",
      "\t7/30\n",
      "\t8/30\n",
      "\t9/30\n",
      "\t10/30\n",
      "\t11/30\n",
      "\t12/30\n",
      "\t13/30\n",
      "\t14/30\n",
      "\t15/30\n",
      "\t16/30\n",
      "\t17/30\n",
      "\t18/30\n",
      "\t19/30\n",
      "\t20/30\n",
      "No new variables added at run 20\n",
      "4/4\n",
      "\t1/30\n",
      "No new variables added at run 1\n",
      "Configuration complete.\n"
     ]
    }
   ],
   "source": [
    "if __name__=='__main__':\n",
    "    main()"
   ]
  },
  {
   "cell_type": "code",
   "execution_count": null,
   "id": "39434a8d",
   "metadata": {},
   "outputs": [],
   "source": []
  }
 ],
 "metadata": {
  "kernelspec": {
   "display_name": "Python 3 (ipykernel)",
   "language": "python",
   "name": "python3"
  },
  "language_info": {
   "codemirror_mode": {
    "name": "ipython",
    "version": 3
   },
   "file_extension": ".py",
   "mimetype": "text/x-python",
   "name": "python",
   "nbconvert_exporter": "python",
   "pygments_lexer": "ipython3",
   "version": "3.9.13"
  }
 },
 "nbformat": 4,
 "nbformat_minor": 5
}
