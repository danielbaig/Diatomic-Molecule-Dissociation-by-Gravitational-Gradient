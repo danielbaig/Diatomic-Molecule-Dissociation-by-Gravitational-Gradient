{
 "cells": [
  {
   "cell_type": "markdown",
   "id": "ccc989be",
   "metadata": {},
   "source": [
    "# Data Analysis"
   ]
  },
  {
   "cell_type": "code",
   "execution_count": 1,
   "id": "77122007",
   "metadata": {},
   "outputs": [
    {
     "name": "stdout",
     "output_type": "stream",
     "text": [
      "C:\\Users\\02dba\\Documents\\GitHub\\Diatomic-Molecule-Dissociation-by-Gravitational-Gradient\\contents\n"
     ]
    }
   ],
   "source": [
    "%matplotlib inline\n",
    "\n",
    "from mpmath import mp, mpf, sin, cos, sqrt, acos\n",
    "\n",
    "\n",
    "from pathlib import Path\n",
    "pathtohere = Path.cwd()\n",
    "print(pathtohere)"
   ]
  },
  {
   "cell_type": "code",
   "execution_count": 2,
   "id": "b684779b",
   "metadata": {},
   "outputs": [],
   "source": [
    "from pyDataAnalysis.readData import *\n",
    "from pyDataAnalysis.display import *"
   ]
  },
  {
   "cell_type": "code",
   "execution_count": 3,
   "id": "7e1bbdf8",
   "metadata": {},
   "outputs": [],
   "source": [
    "mp.dps = 40  # Decimal places of precision"
   ]
  },
  {
   "cell_type": "markdown",
   "id": "8afa52e5",
   "metadata": {},
   "source": [
    "## Escape Velocities\n",
    "### Schwarzschild\n",
    "The metric for the Schwarzschild black hole in geometrised-gaussian units ($G=c=4\\pi\\epsilon_0=1$) is given by\n",
    "\\begin{equation}\n",
    "ds^2 = -\\Bigg(1 - \\frac{2M}{r}\\Bigg)dt^2 + \\Bigg(1 - \\frac{2M}{r}\\Bigg)^{-1}dr^2 + r^2\\big(d\\theta^2 + \\sin^2\\theta d\\phi^2\\big) \\,\\,,\n",
    "\\label{eq:metric_schw} \\tag{1}\n",
    "\\end{equation}\n",
    "where $M$ is the mass of the black hole and ${r,\\phi,\\theta}$ are spherical coordinates. Since the metric does not depend explicitly on $t$ nor $\\phi$ one can use Noether's theorem to determine that there are the associated conserved quantities\n",
    "\\begin{equation}\n",
    "E = \\Bigg(1 - \\frac{2M}{r}\\Bigg)\\dot{t}\n",
    "\\tag{2}\n",
    "\\end{equation}\n",
    "and\n",
    "\\begin{equation}\n",
    "L = r^2\\sin^2\\theta\\dot{\\phi} \\,\\,.\n",
    "\\tag{3}\n",
    "\\end{equation}\n",
    "For a massive particle the timelike interval is $d\\lambda^2=-ds^2$. Using the conserved quantities and 'dividing' by $d\\lambda^2$ one obtains\n",
    "\\begin{equation}\n",
    "\\Bigg(1+\\frac{L^2}{r^2}+r^2\\dot{\\theta}^2\\Bigg)\\Bigg(1 - \\frac{2M}{r}\\Bigg) = E^2 - \\dot{r}^2 \\,\\,,\n",
    "\\label{eq:schw_EoM} \\tag{4}\n",
    "\\end{equation}\n",
    "where the dot denotes a derivate with respect to $\\lambda$.\n",
    "\n",
    "To look at a particle escapeing to infinity one can equivalently look at a particle at rest at infinity and then moving towards the black hole. Using the conditions at $\\lambda=0$: $\\dot{r}=0, L=0, \\dot{\\theta}=0, r\\rightarrow \\infty$ one obtains $E^2=1$.\n",
    "\n",
    "Substituting this result back into $\\eqref{eq:schw_EoM}$ and introducing the velocity components\n",
    "\\begin{equation}\n",
    "v_r = \\dot{r} \\,\\,,\\\\\n",
    "v_{\\phi} = r\\sin\\theta\\dot{\\phi} = \\frac{L}{r}\\,\\,,\\\\\n",
    "v_{\\theta} = r\\dot{\\theta}\\,\\,,\n",
    "\\tag{5}\n",
    "\\end{equation}\n",
    "one finds that\n",
    "\\begin{equation}\n",
    "v_r^2 + \\Bigg(1 - \\frac{2M}{r}\\Bigg)\\big(v_{\\phi}^2 + v_{\\theta}^2\\big) = \\frac{2M}{r}\\,\\,.\n",
    "\\tag{6}\n",
    "\\end{equation}\n",
    "One can notice that this reduces to the Newtonian case $v_{\\text{esc}} = \\sqrt{\\frac{2M}{r}}$ when $\\frac{2M}{r}\\ll 1$ (weak gravitational field) or when only looking at a radially constrained test particle ($v_{\\phi}=v_{\\theta}=0$).\n",
    "\n",
    "### Kerr\n",
    "The metric for the Kerr black hole in geometrised-gaussian units ($G=c=4\\pi\\epsilon_0=1$) is given by\n",
    "\\begin{equation}\n",
    "ds^2 = -\\Bigg(1 - \\frac{2Mr}{\\Sigma}\\Bigg)dt^2 + \\frac{\\Sigma}{\\Delta}dr^2 + \\Sigma d\\theta^2 + \\Big(r^2 + a^2 + \\frac{2a^2Mr}{\\Sigma}\\sin^2\\theta\\Big)\\sin^2\\theta d\\phi^2 - \\frac{4aMr\\sin^2\\theta}{\\Sigma}dt d\\phi \\,\\,,\n",
    "\\label{eq:metric_kerr} \\tag{7}\n",
    "\\end{equation}\n",
    "where $\\Sigma=r^2 + a^2\\cos^2\\theta$, $\\Delta=r^2-2Mr+a^2$, $a$ is the Kerr parameter (angular momentum on the black hole per unit mass) and $(r,\\phi,\\theta)$ are Boyer–Lindquist coordinates. For simplicity one can set $\\theta=\\frac{\\pi}{2}$ to constrict motion to a plane. Again one can notice that there is no explicit dependence on $t$ nor $\\phi$. As a result, the conserved quantities are\n",
    "\\begin{equation}\n",
    "E = \\Bigg(1 - \\frac{2Mr}{\\Sigma}\\Bigg) \\dot{t} + \\frac{2aMr\\sin^2\\theta}{\\Sigma}\\dot{\\phi}\n",
    "\\tag{8}\n",
    "\\end{equation}\n",
    "and\n",
    "\\begin{equation}\n",
    "L = \\Bigg(r^2 + a^2 + \\frac{2a^2Mr}{\\Sigma}\\sin^2\\theta\\Bigg)\\sin^2\\theta\\dot{\\phi} - \\frac{2aMr}{\\Sigma}\\dot{t} \\,\\,.\n",
    "\\tag{9}\n",
    "\\end{equation}\n",
    "\n",
    "Using a timelike interval for a massive particle one finds that\n",
    "\\begin{equation}\n",
    "-1 = -\\Bigg(1 - \\frac{2Mr}{\\Sigma}\\Bigg)\\dot{t}^2 + \\frac{\\Sigma}{\\Delta}\\dot{r}^2 + \\Sigma \\dot{\\theta}^2 + \\Big(r^2 + a^2 + \\frac{2a^2Mr}{\\Sigma}\\sin^2\\theta\\Big)\\sin^2\\theta \\dot{\\phi}^2 - \\frac{4aMr\\sin^2\\theta}{\\Sigma}\\dot{t} \\dot{\\phi} \\,\\,.\n",
    "\\label{eq:kerr_EoM} \\tag{10}\n",
    "\\end{equation}\n",
    "By considering again a particle at rest at infinity one can determine that $E=\\dot{t}$, which by substituting into the above expression one finds $E=\\pm1$. Therefore expression $\\eqref{eq:kerr_EoM}$ becomes\n",
    "\\begin{equation}\n",
    "\\begin{split}\n",
    "    v_r^2 =& \\frac{\\Delta}{\\Sigma}\\Bigg(1 \\mp \\frac{2aM}{\\Sigma}\\sin\\theta v_{\\phi}+\\frac{4a^2M^2}{\\Sigma^2}\\sin^2\\theta v_{\\phi}^2\\Bigg)\\Bigg(1 - \\frac{2Mr}{\\Sigma}\\Bigg)^{-1} \\\\\n",
    "    &+ \\frac{\\Delta}{r^2} v_{\\theta}^2- \\frac{\\Delta}{\\Sigma}\\Bigg(1 + \\frac{a^2}{r^2} + \\frac{2a^2M}{r\\Sigma}\\sin^2\\theta\\Bigg)v_{\\phi}^2 \\\\\n",
    "    &+ \\frac{4aM\\Delta}{\\Sigma^2}\\sin\\theta v_{\\phi}\\Bigg(\\pm1 - \\frac{2aM}{\\Sigma}\\sin\\theta v_{\\phi}\\Bigg) \\Bigg(1 - \\frac{2Mr}{\\Sigma}\\Bigg)^{-1} - \\frac{\\Delta}{\\Sigma}\\,\\,,\n",
    "\\end{split}\n",
    "\\tag{11}\n",
    "\\end{equation}\n",
    "which reduces to\n",
    "\\begin{equation}\n",
    "r^2\\frac{\\Sigma}{\\Delta}(\\Sigma - 2Mr)v_r^2 - v_{\\phi}^2(Mr(a^2 + 2r^2) - \\Sigma(a^2+r^2) + a^2Mr\\cos(2\\theta)) \\pm 2v_{\\phi}aMr^2\\sin\\theta - v_{\\theta}^2(\\Sigma - 4r^2)\\Sigma \\geq 2Mr^3 \\,\\,,\n",
    "\\tag{12}\n",
    "\\end{equation}\n",
    "where the equal sign has been set to an inequality sign to reflect the fact that these are the minimum velocity conditions for a particle to escape.\n",
    "\n",
    "By setting $v_{\\phi}=v_{\\theta}=0$ one can examine the escape velocity being purely due to a radial component. One finds that\n",
    "\\begin{equation}\n",
    "v_r^2 = \\frac{2Mr\\big(r^2-2Mr+a^2\\big)}{\\big(r^2 + a^2\\cos^2\\theta -2Mr\\big)\\big(r^2 + a^2\\cos^2\\theta\\big)} \\,\\,,\n",
    "\\tag{13}\n",
    "\\end{equation}\n",
    "which when only considering motion on the plane $\\theta=\\frac{\\pi}{2}$ becomes\n",
    "\\begin{equation}\n",
    "v_r^2 = \\frac{2M}{r}\\Bigg(1 + \\frac{a^2}{r(r-2M)}\\Bigg) \\,\\,.\n",
    "\\tag{14}\n",
    "\\end{equation}\n",
    "Under the weak gravity condition $r\\ll 2M$ or in the non-rotating case $a=0$ one can again obtain the Newtonian form.\n",
    "If one instead restricts the motion to only the azimuthal component on the equitorial plane one finds that\n",
    "\\begin{equation}\n",
    "v_{\\phi}= \\frac{\\mp_1 aM \\pm_2  \\sqrt{M(2r^2(r-2M) + a^2(2r+M))}}{a^2 + r(r-2M)}\\,\\,,\n",
    "\\tag{15}\n",
    "\\end{equation}\n",
    "where $\\pm_1$ and $\\pm_2$ are independent plus-or-minus signs. Since (currently) the project is only looking at motion outside of a black hole, the first plus-or-minus we can take the upper (minus) sign since the energy is always going to be positive [1]. Furthermore, if one then looks at the non-rotating case again one can regain the angular dependence as in the Schwarzschild case with\n",
    "\\begin{equation}\n",
    "v_{\\phi}^2 = \\frac{2M}{r}\\Bigg(1 - \\frac{2M}{r}\\Bigg)^{-1}\\,\\,.\n",
    "\\tag{16}\n",
    "\\end{equation}\n",
    "\n",
    "\n",
    "\n",
    "1. Hussain S, Hussain I, Jamil M. Critical Escape Velocity of a Charged Particle Moving Around a Slowly Rotating Kerr Black Hole Immersed in Magnetic Field. arXiv preprint arXiv:1402.2731. 2014 Feb."
   ]
  },
  {
   "cell_type": "code",
   "execution_count": 4,
   "id": "bb89dafa",
   "metadata": {},
   "outputs": [],
   "source": [
    "def main():\n",
    "    \n",
    "    BH, particle1, moleculeLength = readPropertiesFile()\n",
    "    particle1Coords = np.loadtxt(pathtohere / 'data/coords1.txt', delimiter=',', dtype=str)\n",
    "    particle2Coords = np.loadtxt(pathtohere / 'data/coords2.txt', delimiter=',', dtype=str)\n",
    "\n",
    "    \n",
    "    # Convert the loaded data to high-precision floats\n",
    "    high_precision_coords1 = np.array([mpf(x) for x in particle1Coords.flatten()], dtype=object)\n",
    "    high_precision_coords2 = np.array([mpf(x) for x in particle2Coords.flatten()], dtype=object)\n",
    "\n",
    "    # If the data is multi-dimensional, reshape it\n",
    "    particle1Coords = high_precision_coords1.reshape(particle1Coords.shape)\n",
    "    particle2Coords = high_precision_coords2.reshape(particle2Coords.shape)\n",
    "    \n",
    "    #print(f'{particle1Coords[:10, 2]}\\n{particle2Coords[:10,2]}')\n",
    "\n",
    "       \n",
    "    # Schwarzschild Escape Velocity\n",
    "    v1_circ = sqrt(2*BH.mass / particle1Coords[0,2]) / np.sqrt(1 - 2*BH.mass/particle1Coords[0,2])\n",
    "    v2_circ = sqrt(2*BH.mass / particle2Coords[0,2]) / np.sqrt(1 - 2*BH.mass/particle1Coords[0,2])\n",
    "\n",
    "    print('Schwarzschild Escape Velocity:')\n",
    "    print(f'\\tp1: {v1_circ}c')\n",
    "    print(f'\\tp2: {v2_circ}c')\n",
    "    print(f'\\tdv:  {v1_circ*(moleculeLength / (2.*particle1Coords[0,2]))}c')\n",
    "    \n",
    "    # Kerr Escape Velocity\n",
    "    kerr_plus = lambda r, a, M: (-a*M + np.sqrt(M*(2*r*r*(r-2*M) + a*a*(2*r+M)))) / (a*a + r*(r-2*M))\n",
    "    kerr_minus = lambda r, a, M: (-a*M - np.sqrt(M*(2*r*r*(r-2*M) + a*a*(2*r+M)))) / (a*a + r*(r-2*M))\n",
    "    \n",
    "    \n",
    "    v1_plus = kerr_plus(particle1Coords[0,2], BH.a, BH.mass)\n",
    "    v1_minus = kerr_minus(particle1Coords[0,2], BH.a, BH.mass)\n",
    "    v2_plus = kerr_plus(particle2Coords[0,2], BH.a, BH.mass)\n",
    "    v2_minus = kerr_minus(particle2Coords[0,2], BH.a, BH.mass)\n",
    "\n",
    "    \n",
    "    print('Kerr Escape Velocity:')\n",
    "    print(f'\\tv1+: {v1_plus}c')\n",
    "    print(f'\\tv1-: {v1_minus}c')\n",
    "    print(f'\\tv2+: {v2_plus}c')\n",
    "    print(f'\\tv2-: {v2_minus}c')\n",
    "    print(f'\\tdv+: {v1_plus - v2_plus}c')\n",
    "    print(f'\\tdv-: {v1_minus - v2_minus}c')\n",
    "    \n",
    "    \n",
    "    print(particle1Coords.shape)\n",
    "    ## Temporary fix.\n",
    "    renderFull = particle1Coords[0,2]>3e+11 or particle1Coords[0,2]<5e+10\n",
    "    #displaySystem(BH, particle1Coords, particle2Coords, renderFull=renderFull)\n",
    "    displayPhaseSpace_phi_r(BH,particle1Coords, particle2Coords)\n",
    "        \n",
    "    displayMolecule(BH, particle1Coords, particle2Coords)\n",
    "    \n",
    "    displayCoordinateStats(BH,particle1Coords, particle2Coords)\n",
    "    displayMoleculeStats(BH, particle1Coords, particle2Coords, moleculeLength)\n",
    "    \n",
    "    \n",
    "    print('END')\n",
    "    "
   ]
  },
  {
   "cell_type": "code",
   "execution_count": 5,
   "id": "9b6140aa",
   "metadata": {
    "scrolled": false
   },
   "outputs": [
    {
     "name": "stdout",
     "output_type": "stream",
     "text": [
      "Schwarzschild Escape Velocity:\n",
      "\tp1: 0.9765009724069321917845248595615481267742c\n",
      "\tp2: 0.9765009724069321917789384817557581075167c\n",
      "\tdv:  5.585819223867632494261758637140670352389e-21c\n",
      "Kerr Escape Velocity:\n",
      "\tv1+: 0.9765009723950127649201054137116649712958c\n",
      "\tv1-: -0.9765009724188516186478975173565596569523c\n",
      "\tv2+: 0.9765009723950127649091921221710612516984c\n",
      "\tv2-: -0.9765009724188516186369842258151503401968c\n",
      "\tdv+: 1.091329154060371959738588084368962744649e-20c\n",
      "\tdv-: -1.09132915414093167554603888570505116359e-20c\n",
      "(10000, 5)\n"
     ]
    },
    {
     "name": "stderr",
     "output_type": "stream",
     "text": [
      "100%|████████████████████████████████████████████████████████████████████████| 10000/10000 [00:00<00:00, 655360.00it/s]\n"
     ]
    },
    {
     "name": "stdout",
     "output_type": "stream",
     "text": [
      "END\n"
     ]
    }
   ],
   "source": [
    "if __name__=='__main__':\n",
    "    main()"
   ]
  },
  {
   "cell_type": "code",
   "execution_count": null,
   "id": "ac80e228",
   "metadata": {},
   "outputs": [],
   "source": []
  }
 ],
 "metadata": {
  "kernelspec": {
   "display_name": "Python 3 (ipykernel)",
   "language": "python",
   "name": "python3"
  },
  "language_info": {
   "codemirror_mode": {
    "name": "ipython",
    "version": 3
   },
   "file_extension": ".py",
   "mimetype": "text/x-python",
   "name": "python",
   "nbconvert_exporter": "python",
   "pygments_lexer": "ipython3",
   "version": "3.9.13"
  }
 },
 "nbformat": 4,
 "nbformat_minor": 5
}
