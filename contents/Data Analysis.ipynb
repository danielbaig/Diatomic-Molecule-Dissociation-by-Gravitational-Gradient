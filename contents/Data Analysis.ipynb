{
 "cells": [
  {
   "cell_type": "markdown",
   "id": "ccc989be",
   "metadata": {},
   "source": [
    "# Data Analysis"
   ]
  },
  {
   "cell_type": "code",
   "execution_count": 1,
   "id": "77122007",
   "metadata": {},
   "outputs": [
    {
     "name": "stdout",
     "output_type": "stream",
     "text": [
      "C:\\Users\\02dba\\Documents\\GitHub\\Diatomic-Molecule-Dissociation-by-Gravitational-Gradient\\contents\n"
     ]
    }
   ],
   "source": [
    "%matplotlib inline\n",
    "\n",
    "from mpmath import mp, mpf, sin, cos, sqrt, acos\n",
    "\n",
    "\n",
    "from pathlib import Path\n",
    "pathtohere = Path.cwd()\n",
    "print(pathtohere)"
   ]
  },
  {
   "cell_type": "code",
   "execution_count": 2,
   "id": "b684779b",
   "metadata": {},
   "outputs": [],
   "source": [
    "from pyDataAnalysis.readData import *\n",
    "from pyDataAnalysis.display import *"
   ]
  },
  {
   "cell_type": "code",
   "execution_count": 3,
   "id": "7e1bbdf8",
   "metadata": {},
   "outputs": [],
   "source": [
    "mp.dps = 25  # Decimal places of precision"
   ]
  },
  {
   "cell_type": "code",
   "execution_count": 7,
   "id": "bb89dafa",
   "metadata": {},
   "outputs": [],
   "source": [
    "def main():\n",
    "    \n",
    "    BH, particle1, moleculeLength = readPropertiesFile()\n",
    "    particle1Coords = np.loadtxt(pathtohere / 'data/coords1.txt', delimiter=',', dtype=str)\n",
    "    particle2Coords = np.loadtxt(pathtohere / 'data/coords2.txt', delimiter=',', dtype=str)\n",
    "\n",
    "    \n",
    "    # Convert the loaded data to high-precision floats\n",
    "    high_precision_coords1 = np.array([mpf(x) for x in particle1Coords.flatten()], dtype=object)\n",
    "    high_precision_coords2 = np.array([mpf(x) for x in particle2Coords.flatten()], dtype=object)\n",
    "\n",
    "    # If the data is multi-dimensional, reshape it\n",
    "    particle1Coords = high_precision_coords1.reshape(particle1Coords.shape)\n",
    "    particle2Coords = high_precision_coords2.reshape(particle2Coords.shape)\n",
    "    \n",
    "    \n",
    "    \n",
    "    # Newtonian\n",
    "    kg_to_m = 1. / 1.3466e+27\n",
    "    sol_to_m = 1.98855e+30 * kg_to_m\n",
    "    sol_to_kg = 1.988475e+30\n",
    "    G = 6.6743e-11 # m^3 kg^-1 s^-2\n",
    "    lightSpeed = 299_792_458. # m s^-1\n",
    "    \n",
    "    v1_esc = np.sqrt(2*G*BH.mass/sol_to_m * sol_to_kg / particle1Coords[0,2])\n",
    "    v2_esc = np.sqrt(2*G*BH.mass/sol_to_m * sol_to_kg / particle2Coords[0,2])\n",
    "    \n",
    "    print('Newtonian escape velocities:')\n",
    "    print(f'\\tp1: {v1_esc/lightSpeed}c')\n",
    "    print(f'\\tp2: {v2_esc/lightSpeed}c')\n",
    "\n",
    "    \n",
    "    \n",
    "    print(particle1Coords.shape)\n",
    "    ## Temporary fix.\n",
    "    renderFull = particle1Coords[0,2]>3e+11 or particle1Coords[0,2]<5e+10\n",
    "    #displaySystem(BH, particle1Coords, particle2Coords, renderFull=renderFull)\n",
    "        \n",
    "    displayMolecule(particle1Coords, particle2Coords)\n",
    "    \n",
    "    displayCoordinateStats(BH,particle1Coords, particle2Coords)\n",
    "    displayMoleculeAngle(particle1Coords, particle2Coords, moleculeLength)\n",
    "    \n",
    "    # print(particle1Coords[:10, 2], particle2Coords[:10,2])\n",
    "    "
   ]
  },
  {
   "cell_type": "code",
   "execution_count": 8,
   "id": "9b6140aa",
   "metadata": {
    "scrolled": false
   },
   "outputs": [
    {
     "name": "stdout",
     "output_type": "stream",
     "text": [
      "Newtonian escape velocities:\n",
      "\tp1: 0.9880256628149529320749757c\n",
      "\tp2: 0.9880256628149529320636722c\n",
      "(10000, 5)\n"
     ]
    },
    {
     "name": "stderr",
     "output_type": "stream",
     "text": [
      "100%|████████████████████████████████████████████████████████████████████████| 10000/10000 [00:00<00:00, 422757.50it/s]\n"
     ]
    }
   ],
   "source": [
    "if __name__=='__main__':\n",
    "    main()"
   ]
  },
  {
   "cell_type": "code",
   "execution_count": null,
   "id": "a287a6e3",
   "metadata": {},
   "outputs": [],
   "source": []
  },
  {
   "cell_type": "code",
   "execution_count": null,
   "id": "ac80e228",
   "metadata": {},
   "outputs": [],
   "source": []
  }
 ],
 "metadata": {
  "kernelspec": {
   "display_name": "Python 3 (ipykernel)",
   "language": "python",
   "name": "python3"
  },
  "language_info": {
   "codemirror_mode": {
    "name": "ipython",
    "version": 3
   },
   "file_extension": ".py",
   "mimetype": "text/x-python",
   "name": "python",
   "nbconvert_exporter": "python",
   "pygments_lexer": "ipython3",
   "version": "3.9.13"
  }
 },
 "nbformat": 4,
 "nbformat_minor": 5
}
