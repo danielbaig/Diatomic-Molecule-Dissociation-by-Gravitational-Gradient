{
 "cells": [
  {
   "cell_type": "markdown",
   "id": "ccc989be",
   "metadata": {},
   "source": [
    "# Data Analysis"
   ]
  },
  {
   "cell_type": "code",
   "execution_count": 1,
   "id": "77122007",
   "metadata": {},
   "outputs": [
    {
     "name": "stdout",
     "output_type": "stream",
     "text": [
      "C:\\Users\\02dba\\Documents\\GitHub\\Diatomic-Molecule-Dissociation-by-Gravitational-Gradient\\contents\n"
     ]
    }
   ],
   "source": [
    "%matplotlib inline\n",
    "\n",
    "from mpmath import mp, mpf, sin, cos, sqrt, acos\n",
    "\n",
    "\n",
    "from pathlib import Path\n",
    "pathtohere = Path.cwd()\n",
    "print(pathtohere)"
   ]
  },
  {
   "cell_type": "code",
   "execution_count": 2,
   "id": "7cb9b9ec",
   "metadata": {},
   "outputs": [],
   "source": [
    "from pyDataAnalysis.readData import *\n",
    "from pyDataAnalysis.display import *"
   ]
  },
  {
   "cell_type": "code",
   "execution_count": 3,
   "id": "7e1bbdf8",
   "metadata": {},
   "outputs": [],
   "source": [
    "mp.dps = 25  # Decimal places of precision"
   ]
  },
  {
   "cell_type": "code",
   "execution_count": 4,
   "id": "bb89dafa",
   "metadata": {},
   "outputs": [],
   "source": [
    "def main():\n",
    "    \n",
    "    BH, particle1, moleculeLength = readPropertiesFile()\n",
    "    particle1Coords = np.loadtxt(pathtohere / 'data/coords1.txt', delimiter=',', dtype=str)\n",
    "    particle2Coords = np.loadtxt(pathtohere / 'data/coords2.txt', delimiter=',', dtype=str)\n",
    "\n",
    "    \n",
    "    # Convert the loaded data to high-precision floats\n",
    "    high_precision_coords1 = np.array([mpf(x) for x in particle1Coords.flatten()], dtype=object)\n",
    "    high_precision_coords2 = np.array([mpf(x) for x in particle2Coords.flatten()], dtype=object)\n",
    "\n",
    "    # If the data is multi-dimensional, reshape it\n",
    "    particle1Coords = high_precision_coords1.reshape(particle1Coords.shape)\n",
    "    particle2Coords = high_precision_coords2.reshape(particle2Coords.shape)\n",
    "    \n",
    "    \n",
    "    \n",
    "    \n",
    "    print(particle1Coords.shape)\n",
    "    displaySystem(BH, particle1Coords, particle2Coords)\n",
    "    displayMolecule(particle1Coords, particle2Coords)\n",
    "    \n",
    "    displayCoordinateStats(BH,particle1Coords, particle2Coords)\n",
    "    displayMoleculeAngle(particle1Coords, particle2Coords, moleculeLength)\n",
    "    \n",
    "    #print(particle1Coords[:10, 2], particle2Coords[:10,2])\n",
    "    "
   ]
  },
  {
   "cell_type": "code",
   "execution_count": 5,
   "id": "9b6140aa",
   "metadata": {
    "scrolled": false
   },
   "outputs": [
    {
     "name": "stdout",
     "output_type": "stream",
     "text": [
      "(1000, 5)\n",
      "Inner horizon: 0.0\n",
      "Outer horizon: 12690924327.937025\n",
      "Inner ergosphere: [0.0,0.0]\n",
      "Outer ergosphere: [12690924327.937025,12690924327.937025]\n"
     ]
    },
    {
     "name": "stderr",
     "output_type": "stream",
     "text": [
      "100%|███████████████████████████████████████████████████████████████████████████| 1000/1000 [00:00<00:00, 50443.84it/s]\n",
      "C:\\Users\\02dba\\Documents\\GitHub\\Diatomic-Molecule-Dissociation-by-Gravitational-Gradient\\contents\\pyDataAnalysis\\display.py:197: UserWarning: Attempting to set identical bottom == top == 0.0 results in singular transformations; automatically expanding.\n",
      "  ax.set_ylim(float(min(coords[:,i])-offset), float(max(coords[:,i])-offset))\n"
     ]
    }
   ],
   "source": [
    "if __name__=='__main__':\n",
    "    main()"
   ]
  },
  {
   "cell_type": "code",
   "execution_count": null,
   "id": "a287a6e3",
   "metadata": {},
   "outputs": [],
   "source": []
  },
  {
   "cell_type": "code",
   "execution_count": null,
   "id": "ac80e228",
   "metadata": {},
   "outputs": [],
   "source": []
  }
 ],
 "metadata": {
  "kernelspec": {
   "display_name": "Python 3 (ipykernel)",
   "language": "python",
   "name": "python3"
  },
  "language_info": {
   "codemirror_mode": {
    "name": "ipython",
    "version": 3
   },
   "file_extension": ".py",
   "mimetype": "text/x-python",
   "name": "python",
   "nbconvert_exporter": "python",
   "pygments_lexer": "ipython3",
   "version": "3.9.13"
  }
 },
 "nbformat": 4,
 "nbformat_minor": 5
}
