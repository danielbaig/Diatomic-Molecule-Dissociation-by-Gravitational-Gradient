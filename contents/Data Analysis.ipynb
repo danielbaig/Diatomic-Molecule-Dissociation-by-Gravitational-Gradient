{
 "cells": [
  {
   "cell_type": "markdown",
   "id": "ccc989be",
   "metadata": {},
   "source": [
    "# Data Analysis"
   ]
  },
  {
   "cell_type": "code",
   "execution_count": 1,
   "id": "77122007",
   "metadata": {},
   "outputs": [
    {
     "name": "stdout",
     "output_type": "stream",
     "text": [
      "C:\\Users\\02dba\\Documents\\GitHub\\Diatomic-Molecule-Dissociation-by-Gravitational-Gradient\\contents\n"
     ]
    }
   ],
   "source": [
    "%matplotlib inline\n",
    "\n",
    "from mpmath import mp, mpf, sin, cos, sqrt, acos\n",
    "\n",
    "\n",
    "from pathlib import Path\n",
    "pathtohere = Path.cwd()\n",
    "print(pathtohere)"
   ]
  },
  {
   "cell_type": "code",
   "execution_count": 2,
   "id": "b684779b",
   "metadata": {},
   "outputs": [],
   "source": [
    "from pyDataAnalysis.readData import *\n",
    "from pyDataAnalysis.display import *"
   ]
  },
  {
   "cell_type": "code",
   "execution_count": 3,
   "id": "7e1bbdf8",
   "metadata": {},
   "outputs": [],
   "source": [
    "mp.dps = 40  # Decimal places of precision"
   ]
  },
  {
   "cell_type": "code",
   "execution_count": 4,
   "id": "bb89dafa",
   "metadata": {},
   "outputs": [],
   "source": [
    "def main():\n",
    "    \n",
    "    BH, particle1, moleculeLength = readPropertiesFile()\n",
    "    particle1Coords = np.loadtxt(pathtohere / 'data/coords1.txt', delimiter=',', dtype=str)\n",
    "    particle2Coords = np.loadtxt(pathtohere / 'data/coords2.txt', delimiter=',', dtype=str)\n",
    "\n",
    "    \n",
    "    # Convert the loaded data to high-precision floats\n",
    "    high_precision_coords1 = np.array([mpf(x) for x in particle1Coords.flatten()], dtype=object)\n",
    "    high_precision_coords2 = np.array([mpf(x) for x in particle2Coords.flatten()], dtype=object)\n",
    "\n",
    "    # If the data is multi-dimensional, reshape it\n",
    "    particle1Coords = high_precision_coords1.reshape(particle1Coords.shape)\n",
    "    particle2Coords = high_precision_coords2.reshape(particle2Coords.shape)\n",
    "    \n",
    "    #print(f'{particle1Coords[:10, 2]}\\n{particle2Coords[:10,2]}')\n",
    "\n",
    "       \n",
    "    # Schwarzschild Orbit\n",
    "    v1_circ = sqrt(BH.mass / particle1Coords[0,2])\n",
    "    v2_circ = sqrt(BH.mass / particle2Coords[0,2])\n",
    "\n",
    "    print('Circular Orbit:')\n",
    "    print(f'\\tp1: {v1_circ}c')\n",
    "    print(f'\\tp2: {v2_circ}c')\n",
    "    print(f'\\tdv:  {v1_circ*(moleculeLength / (2.*particle1Coords[0,2]))}c')\n",
    "    \n",
    "    # Kerr Orbit\n",
    "    kerr_plus = lambda r, a, M: ((a**3*M*r - a*M*r**3 + np.sqrt(M*r**3*(r**6 + a**2*r**4 - a**4*r**2 - a**6)))\n",
    "                                / (a**4*M + a**4*r - a**2*M*r + 2*a**2*r**3 + r**5))\n",
    "    kerr_minus = lambda r, a, M: ((a**3*M*r - a*M*r**3 - np.sqrt(M*r**3*(r**6 + a**2*r**4 - a**4*r**2 - a**6)))\n",
    "                                / (a**4*M + a**4*r - a**2*M*r + 2*a**2*r**3 + r**5))\n",
    "    \n",
    "    v1_plus = kerr_plus(particle1Coords[0,2], BH.a, BH.mass)\n",
    "    v1_minus = kerr_minus(particle1Coords[0,2], BH.a, BH.mass)\n",
    "    v2_plus = kerr_plus(particle2Coords[0,2], BH.a, BH.mass)\n",
    "    v2_minus = kerr_minus(particle2Coords[0,2], BH.a, BH.mass)\n",
    "\n",
    "    \n",
    "    print('Kerr Orbit:')\n",
    "    print(f'\\tv1+: {v1_plus}c')\n",
    "    print(f'\\tv1-: {v1_minus}c')\n",
    "    print(f'\\tv2+: {v2_plus}c')\n",
    "    print(f'\\tv2-: {v2_minus}c')\n",
    "    print(f'\\tdv+: {v1_plus - v2_plus}c')\n",
    "    print(f'\\tdv-: {v1_minus - v2_minus}c')\n",
    "    \n",
    "    \n",
    "    print(particle1Coords.shape)\n",
    "    ## Temporary fix.\n",
    "    renderFull = particle1Coords[0,2]>3e+11 or particle1Coords[0,2]<5e+10\n",
    "    #displaySystem(BH, particle1Coords, particle2Coords, renderFull=renderFull)\n",
    "    displayPhaseSpace_phi_r(BH,particle1Coords, particle2Coords)\n",
    "        \n",
    "    displayMolecule(particle1Coords, particle2Coords)\n",
    "    \n",
    "    displayCoordinateStats(BH,particle1Coords, particle2Coords)\n",
    "    displayMoleculeStats(particle1Coords, particle2Coords, moleculeLength)\n",
    "    \n",
    "    \n",
    "    print('END')\n",
    "    "
   ]
  },
  {
   "cell_type": "code",
   "execution_count": 5,
   "id": "9b6140aa",
   "metadata": {
    "scrolled": false
   },
   "outputs": [
    {
     "name": "stdout",
     "output_type": "stream",
     "text": [
      "Circular Orbit:\n",
      "\tp1: 0.6986504663645649189326038521672758287448c\n",
      "\tp2: 0.698650466364564918924610157189822378928c\n",
      "\tdv:  7.992895687884661350785039922589258802852e-21\n",
      "Kerr Orbit:\n",
      "\tv1+: 0.6986504663401592952224127100620603638504c\n",
      "\tv1-: -0.6986504663889705426375551157748882182885c\n",
      "\tv2+: 0.6986504663401592952144190150857238737786c\n",
      "\tv2-: -0.6986504663889705426295614207963178087271c\n",
      "\tdv+: 7.993694976336490071828945996119799242764e-21\n",
      "\tdv-: -7.993694978570409561433915322512438421898e-21\n",
      "(10000, 5)\n"
     ]
    },
    {
     "name": "stderr",
     "output_type": "stream",
     "text": [
      "100%|████████████████████████████████████████████████████████████████████████| 10000/10000 [00:00<00:00, 649484.20it/s]\n"
     ]
    },
    {
     "name": "stdout",
     "output_type": "stream",
     "text": [
      "END\n"
     ]
    }
   ],
   "source": [
    "if __name__=='__main__':\n",
    "    main()"
   ]
  },
  {
   "cell_type": "code",
   "execution_count": 6,
   "id": "a287a6e3",
   "metadata": {},
   "outputs": [],
   "source": [
    "# 2346"
   ]
  },
  {
   "cell_type": "code",
   "execution_count": null,
   "id": "ac80e228",
   "metadata": {},
   "outputs": [],
   "source": []
  }
 ],
 "metadata": {
  "kernelspec": {
   "display_name": "Python 3 (ipykernel)",
   "language": "python",
   "name": "python3"
  },
  "language_info": {
   "codemirror_mode": {
    "name": "ipython",
    "version": 3
   },
   "file_extension": ".py",
   "mimetype": "text/x-python",
   "name": "python",
   "nbconvert_exporter": "python",
   "pygments_lexer": "ipython3",
   "version": "3.9.13"
  }
 },
 "nbformat": 4,
 "nbformat_minor": 5
}
